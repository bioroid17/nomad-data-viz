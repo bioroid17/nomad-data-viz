{
 "cells": [
  {
   "cell_type": "code",
   "execution_count": 17,
   "id": "713dc6d1",
   "metadata": {},
   "outputs": [
    {
     "data": {
      "application/vnd.plotly.v1+json": {
       "config": {
        "plotlyServerURL": "https://plot.ly"
       },
       "data": [
        {
         "customdata": [
          [
           20397401,
           352844,
           0,
           "US"
          ],
          [
           10305788,
           149218,
           9929568,
           "India"
          ],
          [
           7703971,
           195541,
           6855372,
           "Brazil"
          ],
          [
           3153960,
           56798,
           2553467,
           "Russia"
          ],
          [
           2697014,
           64891,
           200822,
           "France"
          ],
          [
           2549671,
           95917,
           5682,
           "United Kingdom"
          ],
          [
           2220855,
           21093,
           2114760,
           "Turkey"
          ],
          [
           2129376,
           74621,
           1479988,
           "Italy"
          ],
          [
           1928265,
           50837,
           150376,
           "Spain"
          ],
          [
           1721839,
           33071,
           1388744,
           "Germany"
          ],
          [
           1654880,
           43495,
           1520548,
           "Colombia"
          ],
          [
           1629594,
           43319,
           1426676,
           "Argentina"
          ],
          [
           1437185,
           126507,
           1083768,
           "Mexico"
          ],
          [
           1305774,
           28956,
           1046281,
           "Poland"
          ],
          [
           1231429,
           55337,
           995570,
           "Iran"
          ],
          [
           1096855,
           19437,
           746680,
           "Ukraine"
          ],
          [
           1073887,
           28887,
           887701,
           "South Africa"
          ],
          [
           1015137,
           93231,
           951318,
           "Peru"
          ],
          [
           816616,
           11624,
           9651,
           "Netherlands"
          ],
          [
           751270,
           22329,
           617936,
           "Indonesia"
          ],
          [
           732022,
           11711,
           600073,
           "Czechia"
          ],
          [
           648289,
           19581,
           0,
           "Belgium"
          ],
          [
           636201,
           15841,
           566365,
           "Romania"
          ],
          [
           612564,
           16660,
           579203,
           "Chile"
          ],
          [
           596582,
           15819,
           494437,
           "Canada"
          ],
          [
           596193,
           12824,
           539817,
           "Iraq"
          ],
          [
           514500,
           7576,
           458656,
           "Bangladesh"
          ],
          [
           484362,
           10258,
           438974,
           "Pakistan"
          ],
          [
           475820,
           9248,
           439895,
           "Philippines"
          ],
          [
           452296,
           7948,
           317600,
           "Switzerland"
          ],
          [
           440970,
           7425,
           409638,
           "Morocco"
          ],
          [
           437379,
           8727,
           0,
           "Sweden"
          ],
          [
           428510,
           3356,
           379910,
           "Israel"
          ],
          [
           420629,
           6972,
           338668,
           "Portugal"
          ],
          [
           362878,
           6230,
           354081,
           "Saudi Arabia"
          ],
          [
           358774,
           7564,
           334901,
           "Austria"
          ],
          [
           339997,
           3250,
           0,
           "Serbia"
          ],
          [
           325278,
           9667,
           157063,
           "Hungary"
          ],
          [
           295765,
           3851,
           271834,
           "Jordan"
          ],
          [
           285079,
           2250,
           127190,
           "Slovakia"
          ],
          [
           261019,
           1864,
           253107,
           "Nepal"
          ],
          [
           249733,
           4064,
           197928,
           "Panama"
          ],
          [
           239005,
           3541,
           193558,
           "Japan"
          ],
          [
           228410,
           2528,
           214992,
           "Georgia"
          ],
          [
           219041,
           2670,
           188280,
           "Azerbaijan"
          ],
          [
           213378,
           14051,
           184507,
           "Ecuador"
          ],
          [
           212007,
           3961,
           199820,
           "Croatia"
          ],
          [
           209678,
           671,
           186019,
           "United Arab Emirates"
          ],
          [
           202540,
           7604,
           120343,
           "Bulgaria"
          ],
          [
           202060,
           2749,
           176774,
           "Kazakhstan"
          ],
          [
           196223,
           1433,
           178102,
           "Belarus"
          ],
          [
           183888,
           1479,
           127959,
           "Lebanon"
          ],
          [
           172218,
           2416,
           131543,
           "Dominican Republic"
          ],
          [
           169321,
           2185,
           131923,
           "Costa Rica"
          ],
          [
           166567,
           1322,
           131390,
           "Denmark"
          ],
          [
           160985,
           9175,
           132510,
           "Bolivia"
          ],
          [
           159738,
           2828,
           143355,
           "Armenia"
          ],
          [
           150869,
           936,
           146777,
           "Kuwait"
          ],
          [
           147862,
           1841,
           98149,
           "Lithuania"
          ],
          [
           145258,
           3004,
           131701,
           "Moldova"
          ],
          [
           144042,
           245,
           141556,
           "Qatar"
          ],
          [
           140557,
           4730,
           105499,
           "Tunisia"
          ],
          [
           139471,
           7687,
           112826,
           "Egypt"
          ],
          [
           139447,
           4881,
           93764,
           "Greece"
          ],
          [
           139223,
           1418,
           118926,
           "West Bank and Gaza"
          ],
          [
           138236,
           4820,
           126606,
           "Guatemala"
          ],
          [
           128867,
           1499,
           121890,
           "Oman"
          ],
          [
           125042,
           2697,
           107777,
           "Burma"
          ],
          [
           124652,
           1937,
           112251,
           "Ethiopia"
          ],
          [
           123950,
           2728,
           100868,
           "Slovenia"
          ],
          [
           122974,
           3160,
           56936,
           "Honduras"
          ],
          [
           115078,
           474,
           91170,
           "Malaysia"
          ],
          [
           113884,
           1030,
           107901,
           "Venezuela"
          ],
          [
           112143,
           4086,
           77682,
           "Bosnia and Herzegovina"
          ],
          [
           108349,
           2262,
           81977,
           "Paraguay"
          ],
          [
           102649,
           4783,
           90031,
           "China"
          ],
          [
           100744,
           1487,
           73252,
           "Libya"
          ],
          [
           99897,
           2762,
           67395,
           "Algeria"
          ],
          [
           96614,
           1681,
           78802,
           "Kenya"
          ],
          [
           93532,
           2248,
           23364,
           "Ireland"
          ],
          [
           92913,
           352,
           90369,
           "Bahrain"
          ],
          [
           88587,
           1294,
           74373,
           "Nigeria"
          ],
          [
           83743,
           2510,
           61943,
           "North Macedonia"
          ],
          [
           81156,
           1356,
           76148,
           "Kyrgyzstan"
          ],
          [
           77182,
           614,
           75244,
           "Uzbekistan"
          ],
          [
           62593,
           942,
           43578,
           "Korea, South"
          ],
          [
           58629,
           29,
           58449,
           "Singapore"
          ],
          [
           58316,
           1181,
           33634,
           "Albania"
          ],
          [
           54930,
           335,
           53758,
           "Ghana"
          ],
          [
           52513,
           2201,
           41727,
           "Afghanistan"
          ],
          [
           51502,
           1336,
           41854,
           "Kosovo"
          ],
          [
           49803,
           436,
           17998,
           "Norway"
          ],
          [
           48589,
           684,
           38780,
           "Montenegro"
          ],
          [
           46515,
           1327,
           45960,
           "El Salvador"
          ],
          [
           46415,
           495,
           40978,
           "Luxembourg"
          ],
          [
           43856,
           208,
           36155,
           "Sri Lanka"
          ],
          [
           41615,
           644,
           29018,
           "Latvia"
          ],
          [
           36676,
           598,
           29000,
           "Finland"
          ],
          [
           35511,
           265,
           11878,
           "Uganda"
          ],
          [
           28460,
           909,
           22573,
           "Australia"
          ],
          [
           28406,
           234,
           19027,
           "Estonia"
          ],
          [
           26848,
           448,
           24892,
           "Cameroon"
          ],
          [
           25730,
           1468,
           13524,
           "Sudan"
          ],
          [
           24545,
           208,
           20727,
           "Namibia"
          ],
          [
           23108,
           126,
           2057,
           "Cyprus"
          ],
          [
           22563,
           138,
           21981,
           "Cote d'Ivoire"
          ],
          [
           20997,
           390,
           18773,
           "Zambia"
          ],
          [
           19753,
           193,
           13990,
           "Uruguay"
          ],
          [
           19364,
           410,
           17375,
           "Senegal"
          ],
          [
           18794,
           167,
           16680,
           "Mozambique"
          ],
          [
           17849,
           591,
           14701,
           "Congo (Kinshasa)"
          ],
          [
           17714,
           261,
           17228,
           "Madagascar"
          ],
          [
           17568,
           405,
           11146,
           "Angola"
          ],
          [
           14805,
           42,
           12136,
           "Botswana"
          ],
          [
           14581,
           349,
           11652,
           "Mauritania"
          ],
          [
           14084,
           369,
           11347,
           "Zimbabwe"
          ],
          [
           13804,
           48,
           13150,
           "Maldives"
          ],
          [
           13738,
           81,
           13153,
           "Guinea"
          ],
          [
           13665,
           90,
           12894,
           "Tajikistan"
          ],
          [
           12915,
           303,
           10532,
           "Jamaica"
          ],
          [
           12909,
           219,
           11178,
           "Malta"
          ],
          [
           12056,
           146,
           10345,
           "Cuba"
          ],
          [
           11872,
           113,
           11569,
           "Cabo Verde"
          ],
          [
           11526,
           717,
           5420,
           "Syria"
          ],
          [
           10776,
           248,
           9795,
           "Belize"
          ],
          [
           10015,
           236,
           8624,
           "Haiti"
          ],
          [
           9571,
           64,
           9388,
           "Gabon"
          ],
          [
           9482,
           216,
           7073,
           "Eswatini"
          ],
          [
           8460,
           94,
           6598,
           "Rwanda"
          ],
          [
           8117,
           84,
           7463,
           "Andorra"
          ],
          [
           7887,
           171,
           6239,
           "Bahamas"
          ],
          [
           7203,
           271,
           4694,
           "Mali"
          ],
          [
           7163,
           63,
           4299,
           "Thailand"
          ],
          [
           7158,
           127,
           6671,
           "Trinidad and Tobago"
          ],
          [
           7107,
           108,
           5846,
           "Congo (Brazzaville)"
          ],
          [
           6828,
           85,
           5152,
           "Burkina Faso"
          ],
          [
           6684,
           191,
           5708,
           "Malawi"
          ],
          [
           6348,
           164,
           5868,
           "Guyana"
          ],
          [
           6277,
           123,
           5771,
           "Suriname"
          ],
          [
           5840,
           61,
           5735,
           "Djibouti"
          ],
          [
           5754,
           29,
           5578,
           "Iceland"
          ],
          [
           5277,
           86,
           5136,
           "Equatorial Guinea"
          ],
          [
           4963,
           63,
           1924,
           "Central African Republic"
          ],
          [
           4829,
           165,
           4225,
           "Nicaragua"
          ],
          [
           4714,
           130,
           3612,
           "Somalia"
          ],
          [
           3800,
           124,
           3669,
           "Gambia"
          ],
          [
           3662,
           68,
           3443,
           "Togo"
          ],
          [
           3558,
           63,
           3131,
           "South Sudan"
          ],
          [
           3403,
           106,
           1828,
           "Niger"
          ],
          [
           3251,
           44,
           3061,
           "Benin"
          ],
          [
           3206,
           51,
           1496,
           "Lesotho"
          ],
          [
           2635,
           76,
           1906,
           "Sierra Leone"
          ],
          [
           2452,
           45,
           2397,
           "Guinea-Bissau"
          ],
          [
           2384,
           59,
           2042,
           "San Marino"
          ],
          [
           2245,
           44,
           1810,
           "Liechtenstein"
          ],
          [
           2162,
           26,
           2082,
           "New Zealand"
          ],
          [
           2141,
           104,
           1704,
           "Chad"
          ],
          [
           2101,
           610,
           1396,
           "Yemen"
          ],
          [
           1800,
           83,
           1406,
           "Liberia"
          ],
          [
           1474,
           35,
           1325,
           "Vietnam"
          ],
          [
           1320,
           3,
           643,
           "Eritrea"
          ],
          [
           1220,
           1,
           855,
           "Mongolia"
          ],
          [
           1022,
           17,
           973,
           "Sao Tome and Principe"
          ],
          [
           885,
           3,
           718,
           "Monaco"
          ],
          [
           823,
           10,
           705,
           "Comoros"
          ],
          [
           822,
           2,
           687,
           "Burundi"
          ],
          [
           802,
           7,
           682,
           "Taiwan*"
          ],
          [
           780,
           9,
           661,
           "Papua New Guinea"
          ],
          [
           712,
           13,
           699,
           "Diamond Princess"
          ],
          [
           689,
           0,
           449,
           "Bhutan"
          ],
          [
           527,
           10,
           496,
           "Mauritius"
          ],
          [
           509,
           21,
           183,
           "Tanzania"
          ],
          [
           395,
           7,
           319,
           "Barbados"
          ],
          [
           379,
           0,
           362,
           "Cambodia"
          ],
          [
           353,
           5,
           289,
           "Saint Lucia"
          ],
          [
           267,
           0,
           214,
           "Seychelles"
          ],
          [
           159,
           5,
           148,
           "Antigua and Barbuda"
          ],
          [
           157,
           3,
           149,
           "Brunei"
          ],
          [
           127,
           0,
           107,
           "Grenada"
          ],
          [
           121,
           0,
           98,
           "Saint Vincent and the Grenadines"
          ],
          [
           88,
           0,
           83,
           "Dominica"
          ],
          [
           49,
           2,
           44,
           "Fiji"
          ],
          [
           44,
           0,
           32,
           "Timor-Leste"
          ],
          [
           41,
           0,
           40,
           "Laos"
          ],
          [
           32,
           0,
           29,
           "Saint Kitts and Nevis"
          ],
          [
           27,
           0,
           15,
           "Holy See"
          ],
          [
           17,
           0,
           5,
           "Solomon Islands"
          ],
          [
           9,
           2,
           7,
           "MS Zaandam"
          ],
          [
           4,
           0,
           4,
           "Marshall Islands"
          ],
          [
           2,
           0,
           2,
           "Samoa"
          ],
          [
           1,
           0,
           1,
           "Vanuatu"
          ],
          [
           0,
           0,
           0,
           "Palau"
          ],
          [
           0,
           0,
           0,
           "Tuvalu"
          ],
          [
           0,
           0,
           0,
           "Tonga"
          ],
          [
           0,
           0,
           0,
           "Antarctica"
          ],
          [
           0,
           0,
           0,
           "Korea, North"
          ],
          [
           0,
           0,
           0,
           "Nauru"
          ],
          [
           0,
           0,
           0,
           "Winter Olympics 2022"
          ],
          [
           0,
           0,
           0,
           "Summer Olympics 2020"
          ],
          [
           0,
           0,
           0,
           "Kiribati"
          ]
         ],
         "geo": "geo",
         "hovertemplate": "<b>%{hovertext}</b><br><br>Confirmed=%{marker.color:,}<br>Deaths=%{customdata[1]:,}<br>Recovered=%{customdata[2]:,}<extra></extra>",
         "hovertext": [
          "US",
          "India",
          "Brazil",
          "Russia",
          "France",
          "United Kingdom",
          "Turkey",
          "Italy",
          "Spain",
          "Germany",
          "Colombia",
          "Argentina",
          "Mexico",
          "Poland",
          "Iran",
          "Ukraine",
          "South Africa",
          "Peru",
          "Netherlands",
          "Indonesia",
          "Czechia",
          "Belgium",
          "Romania",
          "Chile",
          "Canada",
          "Iraq",
          "Bangladesh",
          "Pakistan",
          "Philippines",
          "Switzerland",
          "Morocco",
          "Sweden",
          "Israel",
          "Portugal",
          "Saudi Arabia",
          "Austria",
          "Serbia",
          "Hungary",
          "Jordan",
          "Slovakia",
          "Nepal",
          "Panama",
          "Japan",
          "Georgia",
          "Azerbaijan",
          "Ecuador",
          "Croatia",
          "United Arab Emirates",
          "Bulgaria",
          "Kazakhstan",
          "Belarus",
          "Lebanon",
          "Dominican Republic",
          "Costa Rica",
          "Denmark",
          "Bolivia",
          "Armenia",
          "Kuwait",
          "Lithuania",
          "Moldova",
          "Qatar",
          "Tunisia",
          "Egypt",
          "Greece",
          "West Bank and Gaza",
          "Guatemala",
          "Oman",
          "Burma",
          "Ethiopia",
          "Slovenia",
          "Honduras",
          "Malaysia",
          "Venezuela",
          "Bosnia and Herzegovina",
          "Paraguay",
          "China",
          "Libya",
          "Algeria",
          "Kenya",
          "Ireland",
          "Bahrain",
          "Nigeria",
          "North Macedonia",
          "Kyrgyzstan",
          "Uzbekistan",
          "Korea, South",
          "Singapore",
          "Albania",
          "Ghana",
          "Afghanistan",
          "Kosovo",
          "Norway",
          "Montenegro",
          "El Salvador",
          "Luxembourg",
          "Sri Lanka",
          "Latvia",
          "Finland",
          "Uganda",
          "Australia",
          "Estonia",
          "Cameroon",
          "Sudan",
          "Namibia",
          "Cyprus",
          "Cote d'Ivoire",
          "Zambia",
          "Uruguay",
          "Senegal",
          "Mozambique",
          "Congo (Kinshasa)",
          "Madagascar",
          "Angola",
          "Botswana",
          "Mauritania",
          "Zimbabwe",
          "Maldives",
          "Guinea",
          "Tajikistan",
          "Jamaica",
          "Malta",
          "Cuba",
          "Cabo Verde",
          "Syria",
          "Belize",
          "Haiti",
          "Gabon",
          "Eswatini",
          "Rwanda",
          "Andorra",
          "Bahamas",
          "Mali",
          "Thailand",
          "Trinidad and Tobago",
          "Congo (Brazzaville)",
          "Burkina Faso",
          "Malawi",
          "Guyana",
          "Suriname",
          "Djibouti",
          "Iceland",
          "Equatorial Guinea",
          "Central African Republic",
          "Nicaragua",
          "Somalia",
          "Gambia",
          "Togo",
          "South Sudan",
          "Niger",
          "Benin",
          "Lesotho",
          "Sierra Leone",
          "Guinea-Bissau",
          "San Marino",
          "Liechtenstein",
          "New Zealand",
          "Chad",
          "Yemen",
          "Liberia",
          "Vietnam",
          "Eritrea",
          "Mongolia",
          "Sao Tome and Principe",
          "Monaco",
          "Comoros",
          "Burundi",
          "Taiwan*",
          "Papua New Guinea",
          "Diamond Princess",
          "Bhutan",
          "Mauritius",
          "Tanzania",
          "Barbados",
          "Cambodia",
          "Saint Lucia",
          "Seychelles",
          "Antigua and Barbuda",
          "Brunei",
          "Grenada",
          "Saint Vincent and the Grenadines",
          "Dominica",
          "Fiji",
          "Timor-Leste",
          "Laos",
          "Saint Kitts and Nevis",
          "Holy See",
          "Solomon Islands",
          "MS Zaandam",
          "Marshall Islands",
          "Samoa",
          "Vanuatu",
          "Palau",
          "Tuvalu",
          "Tonga",
          "Antarctica",
          "Korea, North",
          "Nauru",
          "Winter Olympics 2022",
          "Summer Olympics 2020",
          "Kiribati"
         ],
         "legendgroup": "",
         "locationmode": "country names",
         "locations": [
          "US",
          "India",
          "Brazil",
          "Russia",
          "France",
          "United Kingdom",
          "Turkey",
          "Italy",
          "Spain",
          "Germany",
          "Colombia",
          "Argentina",
          "Mexico",
          "Poland",
          "Iran",
          "Ukraine",
          "South Africa",
          "Peru",
          "Netherlands",
          "Indonesia",
          "Czechia",
          "Belgium",
          "Romania",
          "Chile",
          "Canada",
          "Iraq",
          "Bangladesh",
          "Pakistan",
          "Philippines",
          "Switzerland",
          "Morocco",
          "Sweden",
          "Israel",
          "Portugal",
          "Saudi Arabia",
          "Austria",
          "Serbia",
          "Hungary",
          "Jordan",
          "Slovakia",
          "Nepal",
          "Panama",
          "Japan",
          "Georgia",
          "Azerbaijan",
          "Ecuador",
          "Croatia",
          "United Arab Emirates",
          "Bulgaria",
          "Kazakhstan",
          "Belarus",
          "Lebanon",
          "Dominican Republic",
          "Costa Rica",
          "Denmark",
          "Bolivia",
          "Armenia",
          "Kuwait",
          "Lithuania",
          "Moldova",
          "Qatar",
          "Tunisia",
          "Egypt",
          "Greece",
          "West Bank and Gaza",
          "Guatemala",
          "Oman",
          "Burma",
          "Ethiopia",
          "Slovenia",
          "Honduras",
          "Malaysia",
          "Venezuela",
          "Bosnia and Herzegovina",
          "Paraguay",
          "China",
          "Libya",
          "Algeria",
          "Kenya",
          "Ireland",
          "Bahrain",
          "Nigeria",
          "North Macedonia",
          "Kyrgyzstan",
          "Uzbekistan",
          "Korea, South",
          "Singapore",
          "Albania",
          "Ghana",
          "Afghanistan",
          "Kosovo",
          "Norway",
          "Montenegro",
          "El Salvador",
          "Luxembourg",
          "Sri Lanka",
          "Latvia",
          "Finland",
          "Uganda",
          "Australia",
          "Estonia",
          "Cameroon",
          "Sudan",
          "Namibia",
          "Cyprus",
          "Cote d'Ivoire",
          "Zambia",
          "Uruguay",
          "Senegal",
          "Mozambique",
          "Congo (Kinshasa)",
          "Madagascar",
          "Angola",
          "Botswana",
          "Mauritania",
          "Zimbabwe",
          "Maldives",
          "Guinea",
          "Tajikistan",
          "Jamaica",
          "Malta",
          "Cuba",
          "Cabo Verde",
          "Syria",
          "Belize",
          "Haiti",
          "Gabon",
          "Eswatini",
          "Rwanda",
          "Andorra",
          "Bahamas",
          "Mali",
          "Thailand",
          "Trinidad and Tobago",
          "Congo (Brazzaville)",
          "Burkina Faso",
          "Malawi",
          "Guyana",
          "Suriname",
          "Djibouti",
          "Iceland",
          "Equatorial Guinea",
          "Central African Republic",
          "Nicaragua",
          "Somalia",
          "Gambia",
          "Togo",
          "South Sudan",
          "Niger",
          "Benin",
          "Lesotho",
          "Sierra Leone",
          "Guinea-Bissau",
          "San Marino",
          "Liechtenstein",
          "New Zealand",
          "Chad",
          "Yemen",
          "Liberia",
          "Vietnam",
          "Eritrea",
          "Mongolia",
          "Sao Tome and Principe",
          "Monaco",
          "Comoros",
          "Burundi",
          "Taiwan*",
          "Papua New Guinea",
          "Diamond Princess",
          "Bhutan",
          "Mauritius",
          "Tanzania",
          "Barbados",
          "Cambodia",
          "Saint Lucia",
          "Seychelles",
          "Antigua and Barbuda",
          "Brunei",
          "Grenada",
          "Saint Vincent and the Grenadines",
          "Dominica",
          "Fiji",
          "Timor-Leste",
          "Laos",
          "Saint Kitts and Nevis",
          "Holy See",
          "Solomon Islands",
          "MS Zaandam",
          "Marshall Islands",
          "Samoa",
          "Vanuatu",
          "Palau",
          "Tuvalu",
          "Tonga",
          "Antarctica",
          "Korea, North",
          "Nauru",
          "Winter Olympics 2022",
          "Summer Olympics 2020",
          "Kiribati"
         ],
         "marker": {
          "color": [
           20397401,
           10305788,
           7703971,
           3153960,
           2697014,
           2549671,
           2220855,
           2129376,
           1928265,
           1721839,
           1654880,
           1629594,
           1437185,
           1305774,
           1231429,
           1096855,
           1073887,
           1015137,
           816616,
           751270,
           732022,
           648289,
           636201,
           612564,
           596582,
           596193,
           514500,
           484362,
           475820,
           452296,
           440970,
           437379,
           428510,
           420629,
           362878,
           358774,
           339997,
           325278,
           295765,
           285079,
           261019,
           249733,
           239005,
           228410,
           219041,
           213378,
           212007,
           209678,
           202540,
           202060,
           196223,
           183888,
           172218,
           169321,
           166567,
           160985,
           159738,
           150869,
           147862,
           145258,
           144042,
           140557,
           139471,
           139447,
           139223,
           138236,
           128867,
           125042,
           124652,
           123950,
           122974,
           115078,
           113884,
           112143,
           108349,
           102649,
           100744,
           99897,
           96614,
           93532,
           92913,
           88587,
           83743,
           81156,
           77182,
           62593,
           58629,
           58316,
           54930,
           52513,
           51502,
           49803,
           48589,
           46515,
           46415,
           43856,
           41615,
           36676,
           35511,
           28460,
           28406,
           26848,
           25730,
           24545,
           23108,
           22563,
           20997,
           19753,
           19364,
           18794,
           17849,
           17714,
           17568,
           14805,
           14581,
           14084,
           13804,
           13738,
           13665,
           12915,
           12909,
           12056,
           11872,
           11526,
           10776,
           10015,
           9571,
           9482,
           8460,
           8117,
           7887,
           7203,
           7163,
           7158,
           7107,
           6828,
           6684,
           6348,
           6277,
           5840,
           5754,
           5277,
           4963,
           4829,
           4714,
           3800,
           3662,
           3558,
           3403,
           3251,
           3206,
           2635,
           2452,
           2384,
           2245,
           2162,
           2141,
           2101,
           1800,
           1474,
           1320,
           1220,
           1022,
           885,
           823,
           822,
           802,
           780,
           712,
           689,
           527,
           509,
           395,
           379,
           353,
           267,
           159,
           157,
           127,
           121,
           88,
           49,
           44,
           41,
           32,
           27,
           17,
           9,
           4,
           2,
           1,
           0,
           0,
           0,
           0,
           0,
           0,
           0,
           0,
           0
          ],
          "coloraxis": "coloraxis",
          "size": [
           20397401,
           10305788,
           7703971,
           3153960,
           2697014,
           2549671,
           2220855,
           2129376,
           1928265,
           1721839,
           1654880,
           1629594,
           1437185,
           1305774,
           1231429,
           1096855,
           1073887,
           1015137,
           816616,
           751270,
           732022,
           648289,
           636201,
           612564,
           596582,
           596193,
           514500,
           484362,
           475820,
           452296,
           440970,
           437379,
           428510,
           420629,
           362878,
           358774,
           339997,
           325278,
           295765,
           285079,
           261019,
           249733,
           239005,
           228410,
           219041,
           213378,
           212007,
           209678,
           202540,
           202060,
           196223,
           183888,
           172218,
           169321,
           166567,
           160985,
           159738,
           150869,
           147862,
           145258,
           144042,
           140557,
           139471,
           139447,
           139223,
           138236,
           128867,
           125042,
           124652,
           123950,
           122974,
           115078,
           113884,
           112143,
           108349,
           102649,
           100744,
           99897,
           96614,
           93532,
           92913,
           88587,
           83743,
           81156,
           77182,
           62593,
           58629,
           58316,
           54930,
           52513,
           51502,
           49803,
           48589,
           46515,
           46415,
           43856,
           41615,
           36676,
           35511,
           28460,
           28406,
           26848,
           25730,
           24545,
           23108,
           22563,
           20997,
           19753,
           19364,
           18794,
           17849,
           17714,
           17568,
           14805,
           14581,
           14084,
           13804,
           13738,
           13665,
           12915,
           12909,
           12056,
           11872,
           11526,
           10776,
           10015,
           9571,
           9482,
           8460,
           8117,
           7887,
           7203,
           7163,
           7158,
           7107,
           6828,
           6684,
           6348,
           6277,
           5840,
           5754,
           5277,
           4963,
           4829,
           4714,
           3800,
           3662,
           3558,
           3403,
           3251,
           3206,
           2635,
           2452,
           2384,
           2245,
           2162,
           2141,
           2101,
           1800,
           1474,
           1320,
           1220,
           1022,
           885,
           823,
           822,
           802,
           780,
           712,
           689,
           527,
           509,
           395,
           379,
           353,
           267,
           159,
           157,
           127,
           121,
           88,
           49,
           44,
           41,
           32,
           27,
           17,
           9,
           4,
           2,
           1,
           0,
           0,
           0,
           0,
           0,
           0,
           0,
           0,
           0
          ],
          "sizemode": "area",
          "sizeref": 12748.375625,
          "symbol": "circle"
         },
         "mode": "markers",
         "name": "",
         "showlegend": false,
         "type": "scattergeo"
        }
       ],
       "layout": {
        "coloraxis": {
         "colorbar": {
          "title": {
           "text": "Confirmed"
          }
         },
         "colorscale": [
          [
           0,
           "#0d0887"
          ],
          [
           0.1111111111111111,
           "#46039f"
          ],
          [
           0.2222222222222222,
           "#7201a8"
          ],
          [
           0.3333333333333333,
           "#9c179e"
          ],
          [
           0.4444444444444444,
           "#bd3786"
          ],
          [
           0.5555555555555556,
           "#d8576b"
          ],
          [
           0.6666666666666666,
           "#ed7953"
          ],
          [
           0.7777777777777778,
           "#fb9f3a"
          ],
          [
           0.8888888888888888,
           "#fdca26"
          ],
          [
           1,
           "#f0f921"
          ]
         ]
        },
        "geo": {
         "center": {},
         "domain": {
          "x": [
           0,
           1
          ],
          "y": [
           0,
           1
          ]
         }
        },
        "legend": {
         "itemsizing": "constant",
         "tracegroupgap": 0
        },
        "margin": {
         "t": 60
        },
        "template": {
         "data": {
          "bar": [
           {
            "error_x": {
             "color": "#f2f5fa"
            },
            "error_y": {
             "color": "#f2f5fa"
            },
            "marker": {
             "line": {
              "color": "rgb(17,17,17)",
              "width": 0.5
             },
             "pattern": {
              "fillmode": "overlay",
              "size": 10,
              "solidity": 0.2
             }
            },
            "type": "bar"
           }
          ],
          "barpolar": [
           {
            "marker": {
             "line": {
              "color": "rgb(17,17,17)",
              "width": 0.5
             },
             "pattern": {
              "fillmode": "overlay",
              "size": 10,
              "solidity": 0.2
             }
            },
            "type": "barpolar"
           }
          ],
          "carpet": [
           {
            "aaxis": {
             "endlinecolor": "#A2B1C6",
             "gridcolor": "#506784",
             "linecolor": "#506784",
             "minorgridcolor": "#506784",
             "startlinecolor": "#A2B1C6"
            },
            "baxis": {
             "endlinecolor": "#A2B1C6",
             "gridcolor": "#506784",
             "linecolor": "#506784",
             "minorgridcolor": "#506784",
             "startlinecolor": "#A2B1C6"
            },
            "type": "carpet"
           }
          ],
          "choropleth": [
           {
            "colorbar": {
             "outlinewidth": 0,
             "ticks": ""
            },
            "type": "choropleth"
           }
          ],
          "contour": [
           {
            "colorbar": {
             "outlinewidth": 0,
             "ticks": ""
            },
            "colorscale": [
             [
              0,
              "#0d0887"
             ],
             [
              0.1111111111111111,
              "#46039f"
             ],
             [
              0.2222222222222222,
              "#7201a8"
             ],
             [
              0.3333333333333333,
              "#9c179e"
             ],
             [
              0.4444444444444444,
              "#bd3786"
             ],
             [
              0.5555555555555556,
              "#d8576b"
             ],
             [
              0.6666666666666666,
              "#ed7953"
             ],
             [
              0.7777777777777778,
              "#fb9f3a"
             ],
             [
              0.8888888888888888,
              "#fdca26"
             ],
             [
              1,
              "#f0f921"
             ]
            ],
            "type": "contour"
           }
          ],
          "contourcarpet": [
           {
            "colorbar": {
             "outlinewidth": 0,
             "ticks": ""
            },
            "type": "contourcarpet"
           }
          ],
          "heatmap": [
           {
            "colorbar": {
             "outlinewidth": 0,
             "ticks": ""
            },
            "colorscale": [
             [
              0,
              "#0d0887"
             ],
             [
              0.1111111111111111,
              "#46039f"
             ],
             [
              0.2222222222222222,
              "#7201a8"
             ],
             [
              0.3333333333333333,
              "#9c179e"
             ],
             [
              0.4444444444444444,
              "#bd3786"
             ],
             [
              0.5555555555555556,
              "#d8576b"
             ],
             [
              0.6666666666666666,
              "#ed7953"
             ],
             [
              0.7777777777777778,
              "#fb9f3a"
             ],
             [
              0.8888888888888888,
              "#fdca26"
             ],
             [
              1,
              "#f0f921"
             ]
            ],
            "type": "heatmap"
           }
          ],
          "heatmapgl": [
           {
            "colorbar": {
             "outlinewidth": 0,
             "ticks": ""
            },
            "colorscale": [
             [
              0,
              "#0d0887"
             ],
             [
              0.1111111111111111,
              "#46039f"
             ],
             [
              0.2222222222222222,
              "#7201a8"
             ],
             [
              0.3333333333333333,
              "#9c179e"
             ],
             [
              0.4444444444444444,
              "#bd3786"
             ],
             [
              0.5555555555555556,
              "#d8576b"
             ],
             [
              0.6666666666666666,
              "#ed7953"
             ],
             [
              0.7777777777777778,
              "#fb9f3a"
             ],
             [
              0.8888888888888888,
              "#fdca26"
             ],
             [
              1,
              "#f0f921"
             ]
            ],
            "type": "heatmapgl"
           }
          ],
          "histogram": [
           {
            "marker": {
             "pattern": {
              "fillmode": "overlay",
              "size": 10,
              "solidity": 0.2
             }
            },
            "type": "histogram"
           }
          ],
          "histogram2d": [
           {
            "colorbar": {
             "outlinewidth": 0,
             "ticks": ""
            },
            "colorscale": [
             [
              0,
              "#0d0887"
             ],
             [
              0.1111111111111111,
              "#46039f"
             ],
             [
              0.2222222222222222,
              "#7201a8"
             ],
             [
              0.3333333333333333,
              "#9c179e"
             ],
             [
              0.4444444444444444,
              "#bd3786"
             ],
             [
              0.5555555555555556,
              "#d8576b"
             ],
             [
              0.6666666666666666,
              "#ed7953"
             ],
             [
              0.7777777777777778,
              "#fb9f3a"
             ],
             [
              0.8888888888888888,
              "#fdca26"
             ],
             [
              1,
              "#f0f921"
             ]
            ],
            "type": "histogram2d"
           }
          ],
          "histogram2dcontour": [
           {
            "colorbar": {
             "outlinewidth": 0,
             "ticks": ""
            },
            "colorscale": [
             [
              0,
              "#0d0887"
             ],
             [
              0.1111111111111111,
              "#46039f"
             ],
             [
              0.2222222222222222,
              "#7201a8"
             ],
             [
              0.3333333333333333,
              "#9c179e"
             ],
             [
              0.4444444444444444,
              "#bd3786"
             ],
             [
              0.5555555555555556,
              "#d8576b"
             ],
             [
              0.6666666666666666,
              "#ed7953"
             ],
             [
              0.7777777777777778,
              "#fb9f3a"
             ],
             [
              0.8888888888888888,
              "#fdca26"
             ],
             [
              1,
              "#f0f921"
             ]
            ],
            "type": "histogram2dcontour"
           }
          ],
          "mesh3d": [
           {
            "colorbar": {
             "outlinewidth": 0,
             "ticks": ""
            },
            "type": "mesh3d"
           }
          ],
          "parcoords": [
           {
            "line": {
             "colorbar": {
              "outlinewidth": 0,
              "ticks": ""
             }
            },
            "type": "parcoords"
           }
          ],
          "pie": [
           {
            "automargin": true,
            "type": "pie"
           }
          ],
          "scatter": [
           {
            "marker": {
             "line": {
              "color": "#283442"
             }
            },
            "type": "scatter"
           }
          ],
          "scatter3d": [
           {
            "line": {
             "colorbar": {
              "outlinewidth": 0,
              "ticks": ""
             }
            },
            "marker": {
             "colorbar": {
              "outlinewidth": 0,
              "ticks": ""
             }
            },
            "type": "scatter3d"
           }
          ],
          "scattercarpet": [
           {
            "marker": {
             "colorbar": {
              "outlinewidth": 0,
              "ticks": ""
             }
            },
            "type": "scattercarpet"
           }
          ],
          "scattergeo": [
           {
            "marker": {
             "colorbar": {
              "outlinewidth": 0,
              "ticks": ""
             }
            },
            "type": "scattergeo"
           }
          ],
          "scattergl": [
           {
            "marker": {
             "line": {
              "color": "#283442"
             }
            },
            "type": "scattergl"
           }
          ],
          "scattermapbox": [
           {
            "marker": {
             "colorbar": {
              "outlinewidth": 0,
              "ticks": ""
             }
            },
            "type": "scattermapbox"
           }
          ],
          "scatterpolar": [
           {
            "marker": {
             "colorbar": {
              "outlinewidth": 0,
              "ticks": ""
             }
            },
            "type": "scatterpolar"
           }
          ],
          "scatterpolargl": [
           {
            "marker": {
             "colorbar": {
              "outlinewidth": 0,
              "ticks": ""
             }
            },
            "type": "scatterpolargl"
           }
          ],
          "scatterternary": [
           {
            "marker": {
             "colorbar": {
              "outlinewidth": 0,
              "ticks": ""
             }
            },
            "type": "scatterternary"
           }
          ],
          "surface": [
           {
            "colorbar": {
             "outlinewidth": 0,
             "ticks": ""
            },
            "colorscale": [
             [
              0,
              "#0d0887"
             ],
             [
              0.1111111111111111,
              "#46039f"
             ],
             [
              0.2222222222222222,
              "#7201a8"
             ],
             [
              0.3333333333333333,
              "#9c179e"
             ],
             [
              0.4444444444444444,
              "#bd3786"
             ],
             [
              0.5555555555555556,
              "#d8576b"
             ],
             [
              0.6666666666666666,
              "#ed7953"
             ],
             [
              0.7777777777777778,
              "#fb9f3a"
             ],
             [
              0.8888888888888888,
              "#fdca26"
             ],
             [
              1,
              "#f0f921"
             ]
            ],
            "type": "surface"
           }
          ],
          "table": [
           {
            "cells": {
             "fill": {
              "color": "#506784"
             },
             "line": {
              "color": "rgb(17,17,17)"
             }
            },
            "header": {
             "fill": {
              "color": "#2a3f5f"
             },
             "line": {
              "color": "rgb(17,17,17)"
             }
            },
            "type": "table"
           }
          ]
         },
         "layout": {
          "annotationdefaults": {
           "arrowcolor": "#f2f5fa",
           "arrowhead": 0,
           "arrowwidth": 1
          },
          "autotypenumbers": "strict",
          "coloraxis": {
           "colorbar": {
            "outlinewidth": 0,
            "ticks": ""
           }
          },
          "colorscale": {
           "diverging": [
            [
             0,
             "#8e0152"
            ],
            [
             0.1,
             "#c51b7d"
            ],
            [
             0.2,
             "#de77ae"
            ],
            [
             0.3,
             "#f1b6da"
            ],
            [
             0.4,
             "#fde0ef"
            ],
            [
             0.5,
             "#f7f7f7"
            ],
            [
             0.6,
             "#e6f5d0"
            ],
            [
             0.7,
             "#b8e186"
            ],
            [
             0.8,
             "#7fbc41"
            ],
            [
             0.9,
             "#4d9221"
            ],
            [
             1,
             "#276419"
            ]
           ],
           "sequential": [
            [
             0,
             "#0d0887"
            ],
            [
             0.1111111111111111,
             "#46039f"
            ],
            [
             0.2222222222222222,
             "#7201a8"
            ],
            [
             0.3333333333333333,
             "#9c179e"
            ],
            [
             0.4444444444444444,
             "#bd3786"
            ],
            [
             0.5555555555555556,
             "#d8576b"
            ],
            [
             0.6666666666666666,
             "#ed7953"
            ],
            [
             0.7777777777777778,
             "#fb9f3a"
            ],
            [
             0.8888888888888888,
             "#fdca26"
            ],
            [
             1,
             "#f0f921"
            ]
           ],
           "sequentialminus": [
            [
             0,
             "#0d0887"
            ],
            [
             0.1111111111111111,
             "#46039f"
            ],
            [
             0.2222222222222222,
             "#7201a8"
            ],
            [
             0.3333333333333333,
             "#9c179e"
            ],
            [
             0.4444444444444444,
             "#bd3786"
            ],
            [
             0.5555555555555556,
             "#d8576b"
            ],
            [
             0.6666666666666666,
             "#ed7953"
            ],
            [
             0.7777777777777778,
             "#fb9f3a"
            ],
            [
             0.8888888888888888,
             "#fdca26"
            ],
            [
             1,
             "#f0f921"
            ]
           ]
          },
          "colorway": [
           "#636efa",
           "#EF553B",
           "#00cc96",
           "#ab63fa",
           "#FFA15A",
           "#19d3f3",
           "#FF6692",
           "#B6E880",
           "#FF97FF",
           "#FECB52"
          ],
          "font": {
           "color": "#f2f5fa"
          },
          "geo": {
           "bgcolor": "rgb(17,17,17)",
           "lakecolor": "rgb(17,17,17)",
           "landcolor": "rgb(17,17,17)",
           "showlakes": true,
           "showland": true,
           "subunitcolor": "#506784"
          },
          "hoverlabel": {
           "align": "left"
          },
          "hovermode": "closest",
          "mapbox": {
           "style": "dark"
          },
          "paper_bgcolor": "rgb(17,17,17)",
          "plot_bgcolor": "rgb(17,17,17)",
          "polar": {
           "angularaxis": {
            "gridcolor": "#506784",
            "linecolor": "#506784",
            "ticks": ""
           },
           "bgcolor": "rgb(17,17,17)",
           "radialaxis": {
            "gridcolor": "#506784",
            "linecolor": "#506784",
            "ticks": ""
           }
          },
          "scene": {
           "xaxis": {
            "backgroundcolor": "rgb(17,17,17)",
            "gridcolor": "#506784",
            "gridwidth": 2,
            "linecolor": "#506784",
            "showbackground": true,
            "ticks": "",
            "zerolinecolor": "#C8D4E3"
           },
           "yaxis": {
            "backgroundcolor": "rgb(17,17,17)",
            "gridcolor": "#506784",
            "gridwidth": 2,
            "linecolor": "#506784",
            "showbackground": true,
            "ticks": "",
            "zerolinecolor": "#C8D4E3"
           },
           "zaxis": {
            "backgroundcolor": "rgb(17,17,17)",
            "gridcolor": "#506784",
            "gridwidth": 2,
            "linecolor": "#506784",
            "showbackground": true,
            "ticks": "",
            "zerolinecolor": "#C8D4E3"
           }
          },
          "shapedefaults": {
           "line": {
            "color": "#f2f5fa"
           }
          },
          "sliderdefaults": {
           "bgcolor": "#C8D4E3",
           "bordercolor": "rgb(17,17,17)",
           "borderwidth": 1,
           "tickwidth": 0
          },
          "ternary": {
           "aaxis": {
            "gridcolor": "#506784",
            "linecolor": "#506784",
            "ticks": ""
           },
           "baxis": {
            "gridcolor": "#506784",
            "linecolor": "#506784",
            "ticks": ""
           },
           "bgcolor": "rgb(17,17,17)",
           "caxis": {
            "gridcolor": "#506784",
            "linecolor": "#506784",
            "ticks": ""
           }
          },
          "title": {
           "x": 0.05
          },
          "updatemenudefaults": {
           "bgcolor": "#506784",
           "borderwidth": 0
          },
          "xaxis": {
           "automargin": true,
           "gridcolor": "#283442",
           "linecolor": "#506784",
           "ticks": "",
           "title": {
            "standoff": 15
           },
           "zerolinecolor": "#283442",
           "zerolinewidth": 2
          },
          "yaxis": {
           "automargin": true,
           "gridcolor": "#283442",
           "linecolor": "#506784",
           "ticks": "",
           "title": {
            "standoff": 15
           },
           "zerolinecolor": "#283442",
           "zerolinewidth": 2
          }
         }
        }
       }
      },
      "text/html": [
       "<div>                            <div id=\"944133a6-6ba0-46e4-b881-58e284e8799c\" class=\"plotly-graph-div\" style=\"height:525px; width:100%;\"></div>            <script type=\"text/javascript\">                require([\"plotly\"], function(Plotly) {                    window.PLOTLYENV=window.PLOTLYENV || {};                                    if (document.getElementById(\"944133a6-6ba0-46e4-b881-58e284e8799c\")) {                    Plotly.newPlot(                        \"944133a6-6ba0-46e4-b881-58e284e8799c\",                        [{\"customdata\":[[20397401,352844,0,\"US\"],[10305788,149218,9929568,\"India\"],[7703971,195541,6855372,\"Brazil\"],[3153960,56798,2553467,\"Russia\"],[2697014,64891,200822,\"France\"],[2549671,95917,5682,\"United Kingdom\"],[2220855,21093,2114760,\"Turkey\"],[2129376,74621,1479988,\"Italy\"],[1928265,50837,150376,\"Spain\"],[1721839,33071,1388744,\"Germany\"],[1654880,43495,1520548,\"Colombia\"],[1629594,43319,1426676,\"Argentina\"],[1437185,126507,1083768,\"Mexico\"],[1305774,28956,1046281,\"Poland\"],[1231429,55337,995570,\"Iran\"],[1096855,19437,746680,\"Ukraine\"],[1073887,28887,887701,\"South Africa\"],[1015137,93231,951318,\"Peru\"],[816616,11624,9651,\"Netherlands\"],[751270,22329,617936,\"Indonesia\"],[732022,11711,600073,\"Czechia\"],[648289,19581,0,\"Belgium\"],[636201,15841,566365,\"Romania\"],[612564,16660,579203,\"Chile\"],[596582,15819,494437,\"Canada\"],[596193,12824,539817,\"Iraq\"],[514500,7576,458656,\"Bangladesh\"],[484362,10258,438974,\"Pakistan\"],[475820,9248,439895,\"Philippines\"],[452296,7948,317600,\"Switzerland\"],[440970,7425,409638,\"Morocco\"],[437379,8727,0,\"Sweden\"],[428510,3356,379910,\"Israel\"],[420629,6972,338668,\"Portugal\"],[362878,6230,354081,\"Saudi Arabia\"],[358774,7564,334901,\"Austria\"],[339997,3250,0,\"Serbia\"],[325278,9667,157063,\"Hungary\"],[295765,3851,271834,\"Jordan\"],[285079,2250,127190,\"Slovakia\"],[261019,1864,253107,\"Nepal\"],[249733,4064,197928,\"Panama\"],[239005,3541,193558,\"Japan\"],[228410,2528,214992,\"Georgia\"],[219041,2670,188280,\"Azerbaijan\"],[213378,14051,184507,\"Ecuador\"],[212007,3961,199820,\"Croatia\"],[209678,671,186019,\"United Arab Emirates\"],[202540,7604,120343,\"Bulgaria\"],[202060,2749,176774,\"Kazakhstan\"],[196223,1433,178102,\"Belarus\"],[183888,1479,127959,\"Lebanon\"],[172218,2416,131543,\"Dominican Republic\"],[169321,2185,131923,\"Costa Rica\"],[166567,1322,131390,\"Denmark\"],[160985,9175,132510,\"Bolivia\"],[159738,2828,143355,\"Armenia\"],[150869,936,146777,\"Kuwait\"],[147862,1841,98149,\"Lithuania\"],[145258,3004,131701,\"Moldova\"],[144042,245,141556,\"Qatar\"],[140557,4730,105499,\"Tunisia\"],[139471,7687,112826,\"Egypt\"],[139447,4881,93764,\"Greece\"],[139223,1418,118926,\"West Bank and Gaza\"],[138236,4820,126606,\"Guatemala\"],[128867,1499,121890,\"Oman\"],[125042,2697,107777,\"Burma\"],[124652,1937,112251,\"Ethiopia\"],[123950,2728,100868,\"Slovenia\"],[122974,3160,56936,\"Honduras\"],[115078,474,91170,\"Malaysia\"],[113884,1030,107901,\"Venezuela\"],[112143,4086,77682,\"Bosnia and Herzegovina\"],[108349,2262,81977,\"Paraguay\"],[102649,4783,90031,\"China\"],[100744,1487,73252,\"Libya\"],[99897,2762,67395,\"Algeria\"],[96614,1681,78802,\"Kenya\"],[93532,2248,23364,\"Ireland\"],[92913,352,90369,\"Bahrain\"],[88587,1294,74373,\"Nigeria\"],[83743,2510,61943,\"North Macedonia\"],[81156,1356,76148,\"Kyrgyzstan\"],[77182,614,75244,\"Uzbekistan\"],[62593,942,43578,\"Korea, South\"],[58629,29,58449,\"Singapore\"],[58316,1181,33634,\"Albania\"],[54930,335,53758,\"Ghana\"],[52513,2201,41727,\"Afghanistan\"],[51502,1336,41854,\"Kosovo\"],[49803,436,17998,\"Norway\"],[48589,684,38780,\"Montenegro\"],[46515,1327,45960,\"El Salvador\"],[46415,495,40978,\"Luxembourg\"],[43856,208,36155,\"Sri Lanka\"],[41615,644,29018,\"Latvia\"],[36676,598,29000,\"Finland\"],[35511,265,11878,\"Uganda\"],[28460,909,22573,\"Australia\"],[28406,234,19027,\"Estonia\"],[26848,448,24892,\"Cameroon\"],[25730,1468,13524,\"Sudan\"],[24545,208,20727,\"Namibia\"],[23108,126,2057,\"Cyprus\"],[22563,138,21981,\"Cote d'Ivoire\"],[20997,390,18773,\"Zambia\"],[19753,193,13990,\"Uruguay\"],[19364,410,17375,\"Senegal\"],[18794,167,16680,\"Mozambique\"],[17849,591,14701,\"Congo (Kinshasa)\"],[17714,261,17228,\"Madagascar\"],[17568,405,11146,\"Angola\"],[14805,42,12136,\"Botswana\"],[14581,349,11652,\"Mauritania\"],[14084,369,11347,\"Zimbabwe\"],[13804,48,13150,\"Maldives\"],[13738,81,13153,\"Guinea\"],[13665,90,12894,\"Tajikistan\"],[12915,303,10532,\"Jamaica\"],[12909,219,11178,\"Malta\"],[12056,146,10345,\"Cuba\"],[11872,113,11569,\"Cabo Verde\"],[11526,717,5420,\"Syria\"],[10776,248,9795,\"Belize\"],[10015,236,8624,\"Haiti\"],[9571,64,9388,\"Gabon\"],[9482,216,7073,\"Eswatini\"],[8460,94,6598,\"Rwanda\"],[8117,84,7463,\"Andorra\"],[7887,171,6239,\"Bahamas\"],[7203,271,4694,\"Mali\"],[7163,63,4299,\"Thailand\"],[7158,127,6671,\"Trinidad and Tobago\"],[7107,108,5846,\"Congo (Brazzaville)\"],[6828,85,5152,\"Burkina Faso\"],[6684,191,5708,\"Malawi\"],[6348,164,5868,\"Guyana\"],[6277,123,5771,\"Suriname\"],[5840,61,5735,\"Djibouti\"],[5754,29,5578,\"Iceland\"],[5277,86,5136,\"Equatorial Guinea\"],[4963,63,1924,\"Central African Republic\"],[4829,165,4225,\"Nicaragua\"],[4714,130,3612,\"Somalia\"],[3800,124,3669,\"Gambia\"],[3662,68,3443,\"Togo\"],[3558,63,3131,\"South Sudan\"],[3403,106,1828,\"Niger\"],[3251,44,3061,\"Benin\"],[3206,51,1496,\"Lesotho\"],[2635,76,1906,\"Sierra Leone\"],[2452,45,2397,\"Guinea-Bissau\"],[2384,59,2042,\"San Marino\"],[2245,44,1810,\"Liechtenstein\"],[2162,26,2082,\"New Zealand\"],[2141,104,1704,\"Chad\"],[2101,610,1396,\"Yemen\"],[1800,83,1406,\"Liberia\"],[1474,35,1325,\"Vietnam\"],[1320,3,643,\"Eritrea\"],[1220,1,855,\"Mongolia\"],[1022,17,973,\"Sao Tome and Principe\"],[885,3,718,\"Monaco\"],[823,10,705,\"Comoros\"],[822,2,687,\"Burundi\"],[802,7,682,\"Taiwan*\"],[780,9,661,\"Papua New Guinea\"],[712,13,699,\"Diamond Princess\"],[689,0,449,\"Bhutan\"],[527,10,496,\"Mauritius\"],[509,21,183,\"Tanzania\"],[395,7,319,\"Barbados\"],[379,0,362,\"Cambodia\"],[353,5,289,\"Saint Lucia\"],[267,0,214,\"Seychelles\"],[159,5,148,\"Antigua and Barbuda\"],[157,3,149,\"Brunei\"],[127,0,107,\"Grenada\"],[121,0,98,\"Saint Vincent and the Grenadines\"],[88,0,83,\"Dominica\"],[49,2,44,\"Fiji\"],[44,0,32,\"Timor-Leste\"],[41,0,40,\"Laos\"],[32,0,29,\"Saint Kitts and Nevis\"],[27,0,15,\"Holy See\"],[17,0,5,\"Solomon Islands\"],[9,2,7,\"MS Zaandam\"],[4,0,4,\"Marshall Islands\"],[2,0,2,\"Samoa\"],[1,0,1,\"Vanuatu\"],[0,0,0,\"Palau\"],[0,0,0,\"Tuvalu\"],[0,0,0,\"Tonga\"],[0,0,0,\"Antarctica\"],[0,0,0,\"Korea, North\"],[0,0,0,\"Nauru\"],[0,0,0,\"Winter Olympics 2022\"],[0,0,0,\"Summer Olympics 2020\"],[0,0,0,\"Kiribati\"]],\"geo\":\"geo\",\"hovertemplate\":\"<b>%{hovertext}</b><br><br>Confirmed=%{marker.color:,}<br>Deaths=%{customdata[1]:,}<br>Recovered=%{customdata[2]:,}<extra></extra>\",\"hovertext\":[\"US\",\"India\",\"Brazil\",\"Russia\",\"France\",\"United Kingdom\",\"Turkey\",\"Italy\",\"Spain\",\"Germany\",\"Colombia\",\"Argentina\",\"Mexico\",\"Poland\",\"Iran\",\"Ukraine\",\"South Africa\",\"Peru\",\"Netherlands\",\"Indonesia\",\"Czechia\",\"Belgium\",\"Romania\",\"Chile\",\"Canada\",\"Iraq\",\"Bangladesh\",\"Pakistan\",\"Philippines\",\"Switzerland\",\"Morocco\",\"Sweden\",\"Israel\",\"Portugal\",\"Saudi Arabia\",\"Austria\",\"Serbia\",\"Hungary\",\"Jordan\",\"Slovakia\",\"Nepal\",\"Panama\",\"Japan\",\"Georgia\",\"Azerbaijan\",\"Ecuador\",\"Croatia\",\"United Arab Emirates\",\"Bulgaria\",\"Kazakhstan\",\"Belarus\",\"Lebanon\",\"Dominican Republic\",\"Costa Rica\",\"Denmark\",\"Bolivia\",\"Armenia\",\"Kuwait\",\"Lithuania\",\"Moldova\",\"Qatar\",\"Tunisia\",\"Egypt\",\"Greece\",\"West Bank and Gaza\",\"Guatemala\",\"Oman\",\"Burma\",\"Ethiopia\",\"Slovenia\",\"Honduras\",\"Malaysia\",\"Venezuela\",\"Bosnia and Herzegovina\",\"Paraguay\",\"China\",\"Libya\",\"Algeria\",\"Kenya\",\"Ireland\",\"Bahrain\",\"Nigeria\",\"North Macedonia\",\"Kyrgyzstan\",\"Uzbekistan\",\"Korea, South\",\"Singapore\",\"Albania\",\"Ghana\",\"Afghanistan\",\"Kosovo\",\"Norway\",\"Montenegro\",\"El Salvador\",\"Luxembourg\",\"Sri Lanka\",\"Latvia\",\"Finland\",\"Uganda\",\"Australia\",\"Estonia\",\"Cameroon\",\"Sudan\",\"Namibia\",\"Cyprus\",\"Cote d'Ivoire\",\"Zambia\",\"Uruguay\",\"Senegal\",\"Mozambique\",\"Congo (Kinshasa)\",\"Madagascar\",\"Angola\",\"Botswana\",\"Mauritania\",\"Zimbabwe\",\"Maldives\",\"Guinea\",\"Tajikistan\",\"Jamaica\",\"Malta\",\"Cuba\",\"Cabo Verde\",\"Syria\",\"Belize\",\"Haiti\",\"Gabon\",\"Eswatini\",\"Rwanda\",\"Andorra\",\"Bahamas\",\"Mali\",\"Thailand\",\"Trinidad and Tobago\",\"Congo (Brazzaville)\",\"Burkina Faso\",\"Malawi\",\"Guyana\",\"Suriname\",\"Djibouti\",\"Iceland\",\"Equatorial Guinea\",\"Central African Republic\",\"Nicaragua\",\"Somalia\",\"Gambia\",\"Togo\",\"South Sudan\",\"Niger\",\"Benin\",\"Lesotho\",\"Sierra Leone\",\"Guinea-Bissau\",\"San Marino\",\"Liechtenstein\",\"New Zealand\",\"Chad\",\"Yemen\",\"Liberia\",\"Vietnam\",\"Eritrea\",\"Mongolia\",\"Sao Tome and Principe\",\"Monaco\",\"Comoros\",\"Burundi\",\"Taiwan*\",\"Papua New Guinea\",\"Diamond Princess\",\"Bhutan\",\"Mauritius\",\"Tanzania\",\"Barbados\",\"Cambodia\",\"Saint Lucia\",\"Seychelles\",\"Antigua and Barbuda\",\"Brunei\",\"Grenada\",\"Saint Vincent and the Grenadines\",\"Dominica\",\"Fiji\",\"Timor-Leste\",\"Laos\",\"Saint Kitts and Nevis\",\"Holy See\",\"Solomon Islands\",\"MS Zaandam\",\"Marshall Islands\",\"Samoa\",\"Vanuatu\",\"Palau\",\"Tuvalu\",\"Tonga\",\"Antarctica\",\"Korea, North\",\"Nauru\",\"Winter Olympics 2022\",\"Summer Olympics 2020\",\"Kiribati\"],\"legendgroup\":\"\",\"locationmode\":\"country names\",\"locations\":[\"US\",\"India\",\"Brazil\",\"Russia\",\"France\",\"United Kingdom\",\"Turkey\",\"Italy\",\"Spain\",\"Germany\",\"Colombia\",\"Argentina\",\"Mexico\",\"Poland\",\"Iran\",\"Ukraine\",\"South Africa\",\"Peru\",\"Netherlands\",\"Indonesia\",\"Czechia\",\"Belgium\",\"Romania\",\"Chile\",\"Canada\",\"Iraq\",\"Bangladesh\",\"Pakistan\",\"Philippines\",\"Switzerland\",\"Morocco\",\"Sweden\",\"Israel\",\"Portugal\",\"Saudi Arabia\",\"Austria\",\"Serbia\",\"Hungary\",\"Jordan\",\"Slovakia\",\"Nepal\",\"Panama\",\"Japan\",\"Georgia\",\"Azerbaijan\",\"Ecuador\",\"Croatia\",\"United Arab Emirates\",\"Bulgaria\",\"Kazakhstan\",\"Belarus\",\"Lebanon\",\"Dominican Republic\",\"Costa Rica\",\"Denmark\",\"Bolivia\",\"Armenia\",\"Kuwait\",\"Lithuania\",\"Moldova\",\"Qatar\",\"Tunisia\",\"Egypt\",\"Greece\",\"West Bank and Gaza\",\"Guatemala\",\"Oman\",\"Burma\",\"Ethiopia\",\"Slovenia\",\"Honduras\",\"Malaysia\",\"Venezuela\",\"Bosnia and Herzegovina\",\"Paraguay\",\"China\",\"Libya\",\"Algeria\",\"Kenya\",\"Ireland\",\"Bahrain\",\"Nigeria\",\"North Macedonia\",\"Kyrgyzstan\",\"Uzbekistan\",\"Korea, South\",\"Singapore\",\"Albania\",\"Ghana\",\"Afghanistan\",\"Kosovo\",\"Norway\",\"Montenegro\",\"El Salvador\",\"Luxembourg\",\"Sri Lanka\",\"Latvia\",\"Finland\",\"Uganda\",\"Australia\",\"Estonia\",\"Cameroon\",\"Sudan\",\"Namibia\",\"Cyprus\",\"Cote d'Ivoire\",\"Zambia\",\"Uruguay\",\"Senegal\",\"Mozambique\",\"Congo (Kinshasa)\",\"Madagascar\",\"Angola\",\"Botswana\",\"Mauritania\",\"Zimbabwe\",\"Maldives\",\"Guinea\",\"Tajikistan\",\"Jamaica\",\"Malta\",\"Cuba\",\"Cabo Verde\",\"Syria\",\"Belize\",\"Haiti\",\"Gabon\",\"Eswatini\",\"Rwanda\",\"Andorra\",\"Bahamas\",\"Mali\",\"Thailand\",\"Trinidad and Tobago\",\"Congo (Brazzaville)\",\"Burkina Faso\",\"Malawi\",\"Guyana\",\"Suriname\",\"Djibouti\",\"Iceland\",\"Equatorial Guinea\",\"Central African Republic\",\"Nicaragua\",\"Somalia\",\"Gambia\",\"Togo\",\"South Sudan\",\"Niger\",\"Benin\",\"Lesotho\",\"Sierra Leone\",\"Guinea-Bissau\",\"San Marino\",\"Liechtenstein\",\"New Zealand\",\"Chad\",\"Yemen\",\"Liberia\",\"Vietnam\",\"Eritrea\",\"Mongolia\",\"Sao Tome and Principe\",\"Monaco\",\"Comoros\",\"Burundi\",\"Taiwan*\",\"Papua New Guinea\",\"Diamond Princess\",\"Bhutan\",\"Mauritius\",\"Tanzania\",\"Barbados\",\"Cambodia\",\"Saint Lucia\",\"Seychelles\",\"Antigua and Barbuda\",\"Brunei\",\"Grenada\",\"Saint Vincent and the Grenadines\",\"Dominica\",\"Fiji\",\"Timor-Leste\",\"Laos\",\"Saint Kitts and Nevis\",\"Holy See\",\"Solomon Islands\",\"MS Zaandam\",\"Marshall Islands\",\"Samoa\",\"Vanuatu\",\"Palau\",\"Tuvalu\",\"Tonga\",\"Antarctica\",\"Korea, North\",\"Nauru\",\"Winter Olympics 2022\",\"Summer Olympics 2020\",\"Kiribati\"],\"marker\":{\"color\":[20397401,10305788,7703971,3153960,2697014,2549671,2220855,2129376,1928265,1721839,1654880,1629594,1437185,1305774,1231429,1096855,1073887,1015137,816616,751270,732022,648289,636201,612564,596582,596193,514500,484362,475820,452296,440970,437379,428510,420629,362878,358774,339997,325278,295765,285079,261019,249733,239005,228410,219041,213378,212007,209678,202540,202060,196223,183888,172218,169321,166567,160985,159738,150869,147862,145258,144042,140557,139471,139447,139223,138236,128867,125042,124652,123950,122974,115078,113884,112143,108349,102649,100744,99897,96614,93532,92913,88587,83743,81156,77182,62593,58629,58316,54930,52513,51502,49803,48589,46515,46415,43856,41615,36676,35511,28460,28406,26848,25730,24545,23108,22563,20997,19753,19364,18794,17849,17714,17568,14805,14581,14084,13804,13738,13665,12915,12909,12056,11872,11526,10776,10015,9571,9482,8460,8117,7887,7203,7163,7158,7107,6828,6684,6348,6277,5840,5754,5277,4963,4829,4714,3800,3662,3558,3403,3251,3206,2635,2452,2384,2245,2162,2141,2101,1800,1474,1320,1220,1022,885,823,822,802,780,712,689,527,509,395,379,353,267,159,157,127,121,88,49,44,41,32,27,17,9,4,2,1,0,0,0,0,0,0,0,0,0],\"coloraxis\":\"coloraxis\",\"size\":[20397401,10305788,7703971,3153960,2697014,2549671,2220855,2129376,1928265,1721839,1654880,1629594,1437185,1305774,1231429,1096855,1073887,1015137,816616,751270,732022,648289,636201,612564,596582,596193,514500,484362,475820,452296,440970,437379,428510,420629,362878,358774,339997,325278,295765,285079,261019,249733,239005,228410,219041,213378,212007,209678,202540,202060,196223,183888,172218,169321,166567,160985,159738,150869,147862,145258,144042,140557,139471,139447,139223,138236,128867,125042,124652,123950,122974,115078,113884,112143,108349,102649,100744,99897,96614,93532,92913,88587,83743,81156,77182,62593,58629,58316,54930,52513,51502,49803,48589,46515,46415,43856,41615,36676,35511,28460,28406,26848,25730,24545,23108,22563,20997,19753,19364,18794,17849,17714,17568,14805,14581,14084,13804,13738,13665,12915,12909,12056,11872,11526,10776,10015,9571,9482,8460,8117,7887,7203,7163,7158,7107,6828,6684,6348,6277,5840,5754,5277,4963,4829,4714,3800,3662,3558,3403,3251,3206,2635,2452,2384,2245,2162,2141,2101,1800,1474,1320,1220,1022,885,823,822,802,780,712,689,527,509,395,379,353,267,159,157,127,121,88,49,44,41,32,27,17,9,4,2,1,0,0,0,0,0,0,0,0,0],\"sizemode\":\"area\",\"sizeref\":12748.375625,\"symbol\":\"circle\"},\"mode\":\"markers\",\"name\":\"\",\"showlegend\":false,\"type\":\"scattergeo\"}],                        {\"template\":{\"data\":{\"barpolar\":[{\"marker\":{\"line\":{\"color\":\"rgb(17,17,17)\",\"width\":0.5},\"pattern\":{\"fillmode\":\"overlay\",\"size\":10,\"solidity\":0.2}},\"type\":\"barpolar\"}],\"bar\":[{\"error_x\":{\"color\":\"#f2f5fa\"},\"error_y\":{\"color\":\"#f2f5fa\"},\"marker\":{\"line\":{\"color\":\"rgb(17,17,17)\",\"width\":0.5},\"pattern\":{\"fillmode\":\"overlay\",\"size\":10,\"solidity\":0.2}},\"type\":\"bar\"}],\"carpet\":[{\"aaxis\":{\"endlinecolor\":\"#A2B1C6\",\"gridcolor\":\"#506784\",\"linecolor\":\"#506784\",\"minorgridcolor\":\"#506784\",\"startlinecolor\":\"#A2B1C6\"},\"baxis\":{\"endlinecolor\":\"#A2B1C6\",\"gridcolor\":\"#506784\",\"linecolor\":\"#506784\",\"minorgridcolor\":\"#506784\",\"startlinecolor\":\"#A2B1C6\"},\"type\":\"carpet\"}],\"choropleth\":[{\"colorbar\":{\"outlinewidth\":0,\"ticks\":\"\"},\"type\":\"choropleth\"}],\"contourcarpet\":[{\"colorbar\":{\"outlinewidth\":0,\"ticks\":\"\"},\"type\":\"contourcarpet\"}],\"contour\":[{\"colorbar\":{\"outlinewidth\":0,\"ticks\":\"\"},\"colorscale\":[[0.0,\"#0d0887\"],[0.1111111111111111,\"#46039f\"],[0.2222222222222222,\"#7201a8\"],[0.3333333333333333,\"#9c179e\"],[0.4444444444444444,\"#bd3786\"],[0.5555555555555556,\"#d8576b\"],[0.6666666666666666,\"#ed7953\"],[0.7777777777777778,\"#fb9f3a\"],[0.8888888888888888,\"#fdca26\"],[1.0,\"#f0f921\"]],\"type\":\"contour\"}],\"heatmapgl\":[{\"colorbar\":{\"outlinewidth\":0,\"ticks\":\"\"},\"colorscale\":[[0.0,\"#0d0887\"],[0.1111111111111111,\"#46039f\"],[0.2222222222222222,\"#7201a8\"],[0.3333333333333333,\"#9c179e\"],[0.4444444444444444,\"#bd3786\"],[0.5555555555555556,\"#d8576b\"],[0.6666666666666666,\"#ed7953\"],[0.7777777777777778,\"#fb9f3a\"],[0.8888888888888888,\"#fdca26\"],[1.0,\"#f0f921\"]],\"type\":\"heatmapgl\"}],\"heatmap\":[{\"colorbar\":{\"outlinewidth\":0,\"ticks\":\"\"},\"colorscale\":[[0.0,\"#0d0887\"],[0.1111111111111111,\"#46039f\"],[0.2222222222222222,\"#7201a8\"],[0.3333333333333333,\"#9c179e\"],[0.4444444444444444,\"#bd3786\"],[0.5555555555555556,\"#d8576b\"],[0.6666666666666666,\"#ed7953\"],[0.7777777777777778,\"#fb9f3a\"],[0.8888888888888888,\"#fdca26\"],[1.0,\"#f0f921\"]],\"type\":\"heatmap\"}],\"histogram2dcontour\":[{\"colorbar\":{\"outlinewidth\":0,\"ticks\":\"\"},\"colorscale\":[[0.0,\"#0d0887\"],[0.1111111111111111,\"#46039f\"],[0.2222222222222222,\"#7201a8\"],[0.3333333333333333,\"#9c179e\"],[0.4444444444444444,\"#bd3786\"],[0.5555555555555556,\"#d8576b\"],[0.6666666666666666,\"#ed7953\"],[0.7777777777777778,\"#fb9f3a\"],[0.8888888888888888,\"#fdca26\"],[1.0,\"#f0f921\"]],\"type\":\"histogram2dcontour\"}],\"histogram2d\":[{\"colorbar\":{\"outlinewidth\":0,\"ticks\":\"\"},\"colorscale\":[[0.0,\"#0d0887\"],[0.1111111111111111,\"#46039f\"],[0.2222222222222222,\"#7201a8\"],[0.3333333333333333,\"#9c179e\"],[0.4444444444444444,\"#bd3786\"],[0.5555555555555556,\"#d8576b\"],[0.6666666666666666,\"#ed7953\"],[0.7777777777777778,\"#fb9f3a\"],[0.8888888888888888,\"#fdca26\"],[1.0,\"#f0f921\"]],\"type\":\"histogram2d\"}],\"histogram\":[{\"marker\":{\"pattern\":{\"fillmode\":\"overlay\",\"size\":10,\"solidity\":0.2}},\"type\":\"histogram\"}],\"mesh3d\":[{\"colorbar\":{\"outlinewidth\":0,\"ticks\":\"\"},\"type\":\"mesh3d\"}],\"parcoords\":[{\"line\":{\"colorbar\":{\"outlinewidth\":0,\"ticks\":\"\"}},\"type\":\"parcoords\"}],\"pie\":[{\"automargin\":true,\"type\":\"pie\"}],\"scatter3d\":[{\"line\":{\"colorbar\":{\"outlinewidth\":0,\"ticks\":\"\"}},\"marker\":{\"colorbar\":{\"outlinewidth\":0,\"ticks\":\"\"}},\"type\":\"scatter3d\"}],\"scattercarpet\":[{\"marker\":{\"colorbar\":{\"outlinewidth\":0,\"ticks\":\"\"}},\"type\":\"scattercarpet\"}],\"scattergeo\":[{\"marker\":{\"colorbar\":{\"outlinewidth\":0,\"ticks\":\"\"}},\"type\":\"scattergeo\"}],\"scattergl\":[{\"marker\":{\"line\":{\"color\":\"#283442\"}},\"type\":\"scattergl\"}],\"scattermapbox\":[{\"marker\":{\"colorbar\":{\"outlinewidth\":0,\"ticks\":\"\"}},\"type\":\"scattermapbox\"}],\"scatterpolargl\":[{\"marker\":{\"colorbar\":{\"outlinewidth\":0,\"ticks\":\"\"}},\"type\":\"scatterpolargl\"}],\"scatterpolar\":[{\"marker\":{\"colorbar\":{\"outlinewidth\":0,\"ticks\":\"\"}},\"type\":\"scatterpolar\"}],\"scatter\":[{\"marker\":{\"line\":{\"color\":\"#283442\"}},\"type\":\"scatter\"}],\"scatterternary\":[{\"marker\":{\"colorbar\":{\"outlinewidth\":0,\"ticks\":\"\"}},\"type\":\"scatterternary\"}],\"surface\":[{\"colorbar\":{\"outlinewidth\":0,\"ticks\":\"\"},\"colorscale\":[[0.0,\"#0d0887\"],[0.1111111111111111,\"#46039f\"],[0.2222222222222222,\"#7201a8\"],[0.3333333333333333,\"#9c179e\"],[0.4444444444444444,\"#bd3786\"],[0.5555555555555556,\"#d8576b\"],[0.6666666666666666,\"#ed7953\"],[0.7777777777777778,\"#fb9f3a\"],[0.8888888888888888,\"#fdca26\"],[1.0,\"#f0f921\"]],\"type\":\"surface\"}],\"table\":[{\"cells\":{\"fill\":{\"color\":\"#506784\"},\"line\":{\"color\":\"rgb(17,17,17)\"}},\"header\":{\"fill\":{\"color\":\"#2a3f5f\"},\"line\":{\"color\":\"rgb(17,17,17)\"}},\"type\":\"table\"}]},\"layout\":{\"annotationdefaults\":{\"arrowcolor\":\"#f2f5fa\",\"arrowhead\":0,\"arrowwidth\":1},\"autotypenumbers\":\"strict\",\"coloraxis\":{\"colorbar\":{\"outlinewidth\":0,\"ticks\":\"\"}},\"colorscale\":{\"diverging\":[[0,\"#8e0152\"],[0.1,\"#c51b7d\"],[0.2,\"#de77ae\"],[0.3,\"#f1b6da\"],[0.4,\"#fde0ef\"],[0.5,\"#f7f7f7\"],[0.6,\"#e6f5d0\"],[0.7,\"#b8e186\"],[0.8,\"#7fbc41\"],[0.9,\"#4d9221\"],[1,\"#276419\"]],\"sequential\":[[0.0,\"#0d0887\"],[0.1111111111111111,\"#46039f\"],[0.2222222222222222,\"#7201a8\"],[0.3333333333333333,\"#9c179e\"],[0.4444444444444444,\"#bd3786\"],[0.5555555555555556,\"#d8576b\"],[0.6666666666666666,\"#ed7953\"],[0.7777777777777778,\"#fb9f3a\"],[0.8888888888888888,\"#fdca26\"],[1.0,\"#f0f921\"]],\"sequentialminus\":[[0.0,\"#0d0887\"],[0.1111111111111111,\"#46039f\"],[0.2222222222222222,\"#7201a8\"],[0.3333333333333333,\"#9c179e\"],[0.4444444444444444,\"#bd3786\"],[0.5555555555555556,\"#d8576b\"],[0.6666666666666666,\"#ed7953\"],[0.7777777777777778,\"#fb9f3a\"],[0.8888888888888888,\"#fdca26\"],[1.0,\"#f0f921\"]]},\"colorway\":[\"#636efa\",\"#EF553B\",\"#00cc96\",\"#ab63fa\",\"#FFA15A\",\"#19d3f3\",\"#FF6692\",\"#B6E880\",\"#FF97FF\",\"#FECB52\"],\"font\":{\"color\":\"#f2f5fa\"},\"geo\":{\"bgcolor\":\"rgb(17,17,17)\",\"lakecolor\":\"rgb(17,17,17)\",\"landcolor\":\"rgb(17,17,17)\",\"showlakes\":true,\"showland\":true,\"subunitcolor\":\"#506784\"},\"hoverlabel\":{\"align\":\"left\"},\"hovermode\":\"closest\",\"mapbox\":{\"style\":\"dark\"},\"paper_bgcolor\":\"rgb(17,17,17)\",\"plot_bgcolor\":\"rgb(17,17,17)\",\"polar\":{\"angularaxis\":{\"gridcolor\":\"#506784\",\"linecolor\":\"#506784\",\"ticks\":\"\"},\"bgcolor\":\"rgb(17,17,17)\",\"radialaxis\":{\"gridcolor\":\"#506784\",\"linecolor\":\"#506784\",\"ticks\":\"\"}},\"scene\":{\"xaxis\":{\"backgroundcolor\":\"rgb(17,17,17)\",\"gridcolor\":\"#506784\",\"gridwidth\":2,\"linecolor\":\"#506784\",\"showbackground\":true,\"ticks\":\"\",\"zerolinecolor\":\"#C8D4E3\"},\"yaxis\":{\"backgroundcolor\":\"rgb(17,17,17)\",\"gridcolor\":\"#506784\",\"gridwidth\":2,\"linecolor\":\"#506784\",\"showbackground\":true,\"ticks\":\"\",\"zerolinecolor\":\"#C8D4E3\"},\"zaxis\":{\"backgroundcolor\":\"rgb(17,17,17)\",\"gridcolor\":\"#506784\",\"gridwidth\":2,\"linecolor\":\"#506784\",\"showbackground\":true,\"ticks\":\"\",\"zerolinecolor\":\"#C8D4E3\"}},\"shapedefaults\":{\"line\":{\"color\":\"#f2f5fa\"}},\"sliderdefaults\":{\"bgcolor\":\"#C8D4E3\",\"bordercolor\":\"rgb(17,17,17)\",\"borderwidth\":1,\"tickwidth\":0},\"ternary\":{\"aaxis\":{\"gridcolor\":\"#506784\",\"linecolor\":\"#506784\",\"ticks\":\"\"},\"baxis\":{\"gridcolor\":\"#506784\",\"linecolor\":\"#506784\",\"ticks\":\"\"},\"bgcolor\":\"rgb(17,17,17)\",\"caxis\":{\"gridcolor\":\"#506784\",\"linecolor\":\"#506784\",\"ticks\":\"\"}},\"title\":{\"x\":0.05},\"updatemenudefaults\":{\"bgcolor\":\"#506784\",\"borderwidth\":0},\"xaxis\":{\"automargin\":true,\"gridcolor\":\"#283442\",\"linecolor\":\"#506784\",\"ticks\":\"\",\"title\":{\"standoff\":15},\"zerolinecolor\":\"#283442\",\"zerolinewidth\":2},\"yaxis\":{\"automargin\":true,\"gridcolor\":\"#283442\",\"linecolor\":\"#506784\",\"ticks\":\"\",\"title\":{\"standoff\":15},\"zerolinecolor\":\"#283442\",\"zerolinewidth\":2}}},\"geo\":{\"domain\":{\"x\":[0.0,1.0],\"y\":[0.0,1.0]},\"center\":{}},\"coloraxis\":{\"colorbar\":{\"title\":{\"text\":\"Confirmed\"}},\"colorscale\":[[0.0,\"#0d0887\"],[0.1111111111111111,\"#46039f\"],[0.2222222222222222,\"#7201a8\"],[0.3333333333333333,\"#9c179e\"],[0.4444444444444444,\"#bd3786\"],[0.5555555555555556,\"#d8576b\"],[0.6666666666666666,\"#ed7953\"],[0.7777777777777778,\"#fb9f3a\"],[0.8888888888888888,\"#fdca26\"],[1.0,\"#f0f921\"]]},\"legend\":{\"tracegroupgap\":0,\"itemsizing\":\"constant\"},\"margin\":{\"t\":60}},                        {\"responsive\": true}                    ).then(function(){\n",
       "                            \n",
       "var gd = document.getElementById('944133a6-6ba0-46e4-b881-58e284e8799c');\n",
       "var x = new MutationObserver(function (mutations, observer) {{\n",
       "        var display = window.getComputedStyle(gd).display;\n",
       "        if (!display || display === 'none') {{\n",
       "            console.log([gd, 'removed!']);\n",
       "            Plotly.purge(gd);\n",
       "            observer.disconnect();\n",
       "        }}\n",
       "}});\n",
       "\n",
       "// Listen for the removal of the full notebook cells\n",
       "var notebookContainer = gd.closest('#notebook-container');\n",
       "if (notebookContainer) {{\n",
       "    x.observe(notebookContainer, {childList: true});\n",
       "}}\n",
       "\n",
       "// Listen for the clearing of the current output cell\n",
       "var outputEl = gd.closest('.output');\n",
       "if (outputEl) {{\n",
       "    x.observe(outputEl, {childList: true});\n",
       "}}\n",
       "\n",
       "                        })                };                });            </script>        </div>"
      ]
     },
     "metadata": {},
     "output_type": "display_data"
    }
   ],
   "source": [
    "import plotly.express as px\n",
    "from data import country_df\n",
    "\n",
    "fig = px.scatter_geo(\n",
    "    country_df,\n",
    "    hover_name=\"Country_Region\",\n",
    "    color=\"Confirmed\",\n",
    "    locations=\"Country_Region\",\n",
    "    locationmode=\"country names\",\n",
    "    hover_data={\n",
    "        \"Confirmed\": \":,\",\n",
    "        \"Deaths\": \":,\",\n",
    "        \"Recovered\": \":,\",\n",
    "        \"Country_Region\": False,\n",
    "    },\n",
    "    size=\"Confirmed\",\n",
    "    size_max=40,\n",
    "    template=\"plotly_dark\",\n",
    ")\n",
    "fig.show()"
   ]
  }
 ],
 "metadata": {
  "kernelspec": {
   "display_name": "Python 3 (ipykernel)",
   "language": "python",
   "name": "python3"
  },
  "language_info": {
   "codemirror_mode": {
    "name": "ipython",
    "version": 3
   },
   "file_extension": ".py",
   "mimetype": "text/x-python",
   "name": "python",
   "nbconvert_exporter": "python",
   "pygments_lexer": "ipython3",
   "version": "3.9.18"
  }
 },
 "nbformat": 4,
 "nbformat_minor": 5
}
