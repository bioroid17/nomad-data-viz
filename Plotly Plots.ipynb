{
 "cells": [
  {
   "cell_type": "code",
   "execution_count": null,
   "id": "713dc6d1",
   "metadata": {
    "scrolled": false
   },
   "outputs": [],
   "source": [
    "import plotly.express as px\n",
    "from data import make_global_df\n",
    "\n",
    "df = make_global_df()\n",
    "\n",
    "fig = px.line(\n",
    "    df,\n",
    "    x=\"date\",\n",
    "    y=[\"confirmed\", \"deaths\", \"recovered\"],\n",
    "    labels={\n",
    "        \"value\": \"Cases\",\n",
    "        \"variable\": \"Condition\",\n",
    "        \"date\": \"Date\",\n",
    "    },\n",
    "    hover_data={\n",
    "        \"value\": \":,\",\n",
    "        \"variable\": False,\n",
    "        \"date\": False,\n",
    "    },\n",
    "    template=\"plotly_dark\",\n",
    "    color_discrete_map={\n",
    "        \"confirmed\": \"#e74c3c\",\n",
    "        \"deaths\": \"#8e44ad\",\n",
    "        \"recovered\": \"#27ae60\",\n",
    "    },\n",
    ")\n",
    "fig.update_xaxes(rangeslider_visible=True)\n",
    "fig"
   ]
  }
 ],
 "metadata": {
  "kernelspec": {
   "display_name": "Python 3 (ipykernel)",
   "language": "python",
   "name": "python3"
  },
  "language_info": {
   "codemirror_mode": {
    "name": "ipython",
    "version": 3
   },
   "file_extension": ".py",
   "mimetype": "text/x-python",
   "name": "python",
   "nbconvert_exporter": "python",
   "pygments_lexer": "ipython3",
   "version": "3.9.18"
  }
 },
 "nbformat": 4,
 "nbformat_minor": 5
}
