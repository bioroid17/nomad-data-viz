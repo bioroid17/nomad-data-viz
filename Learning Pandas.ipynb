{
 "cells": [
  {
   "cell_type": "code",
   "execution_count": 6,
   "id": "486fdd12",
   "metadata": {},
   "outputs": [
    {
     "data": {
      "text/plain": [
       "0          Afghanistan\n",
       "1              Albania\n",
       "2              Algeria\n",
       "3              Andorra\n",
       "4               Angola\n",
       "             ...      \n",
       "4006           Ukraine\n",
       "4007             Nauru\n",
       "4008       New Zealand\n",
       "4009            Tuvalu\n",
       "4010    United Kingdom\n",
       "Name: Country_Region, Length: 4011, dtype: object"
      ]
     },
     "execution_count": 6,
     "metadata": {},
     "output_type": "execute_result"
    }
   ],
   "source": [
    "import pandas as pd\n",
    "\n",
    "daily_df = pd.read_csv(\"data/daily_report.csv\")\n",
    "\n",
    "daily_df[\"Country_Region\"]"
   ]
  }
 ],
 "metadata": {
  "kernelspec": {
   "display_name": "Python 3 (ipykernel)",
   "language": "python",
   "name": "python3"
  },
  "language_info": {
   "codemirror_mode": {
    "name": "ipython",
    "version": 3
   },
   "file_extension": ".py",
   "mimetype": "text/x-python",
   "name": "python",
   "nbconvert_exporter": "python",
   "pygments_lexer": "ipython3",
   "version": "3.9.18"
  }
 },
 "nbformat": 4,
 "nbformat_minor": 5
}
